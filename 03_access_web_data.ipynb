{
 "cells": [
  {
   "cell_type": "markdown",
   "metadata": {},
   "source": [
    "# REGEX"
   ]
  },
  {
   "cell_type": "code",
   "execution_count": 63,
   "metadata": {},
   "outputs": [
    {
     "name": "stdout",
     "output_type": "stream",
     "text": [
      "From: stephen.marquard@uct.ac.za\n",
      "From: louis@media.berkeley.edu\n",
      "From: zqian@umich.edu\n",
      "From: rjlowe@iupui.edu\n",
      "From: zqian@umich.edu\n",
      "From: rjlowe@iupui.edu\n",
      "From: cwen@iupui.edu\n",
      "From: cwen@iupui.edu\n",
      "From: gsilver@umich.edu\n",
      "From: gsilver@umich.edu\n",
      "From: zqian@umich.edu\n",
      "From: gsilver@umich.edu\n",
      "From: wagnermr@iupui.edu\n",
      "From: zqian@umich.edu\n",
      "From: antranig@caret.cam.ac.uk\n",
      "From: gopal.ramasammycook@gmail.com\n",
      "From: david.horwitz@uct.ac.za\n",
      "From: david.horwitz@uct.ac.za\n",
      "From: david.horwitz@uct.ac.za\n",
      "From: david.horwitz@uct.ac.za\n",
      "From: stephen.marquard@uct.ac.za\n",
      "From: louis@media.berkeley.edu\n",
      "From: louis@media.berkeley.edu\n",
      "From: ray@media.berkeley.edu\n",
      "From: cwen@iupui.edu\n",
      "From: cwen@iupui.edu\n",
      "From: cwen@iupui.edu\n"
     ]
    }
   ],
   "source": [
    "# # Previous method\n",
    "# hand = open('data/mbox-short.txt')\n",
    "# for line in hand:\n",
    "#     line = line.rstrip()\n",
    "#     if line.find('From:') >= 0:\n",
    "#         print(line)\n",
    "\n",
    "# Regex method\n",
    "import re\n",
    "\n",
    "hand = open('data/mbox-short.txt')\n",
    "for line in hand:\n",
    "    line = line.rstrip()\n",
    "    if re.search('From:', line):\n",
    "        print(line)"
   ]
  },
  {
   "cell_type": "code",
   "execution_count": 64,
   "metadata": {},
   "outputs": [
    {
     "name": "stdout",
     "output_type": "stream",
     "text": [
      "['2', '19', '42']\n",
      "['f', 'a', 'e', 'b', 'e', 'a', 'e', 'a', 'd']\n"
     ]
    }
   ],
   "source": [
    "# Matching and extracting data\n",
    "x = 'My 2 favourite numbers are 19 and 42'\n",
    "print(re.findall('[1-9]+', x))\n",
    "print(re.findall('[a-h]', x))"
   ]
  },
  {
   "cell_type": "code",
   "execution_count": 65,
   "metadata": {},
   "outputs": [
    {
     "name": "stdout",
     "output_type": "stream",
     "text": [
      "['From: Using the :']\n",
      "['From:']\n"
     ]
    }
   ],
   "source": [
    "\n",
    "# Greedy matching\n",
    "x = 'From: Using the : character'\n",
    "print(re.findall('^F.+:', x)) # F = From, .+ = one or more characters, : = colon\n",
    "# Non-greedy matching\n",
    "print(re.findall('^F.+?:', x)) # F = From, .+ = one or more characters, ? = non-greedy, : = colon\n"
   ]
  },
  {
   "cell_type": "code",
   "execution_count": 66,
   "metadata": {},
   "outputs": [
    {
     "name": "stdout",
     "output_type": "stream",
     "text": [
      "['stephen.marquard@uct.ac.za']\n",
      "['stephen.marquard@uct.ac.za']\n",
      "['uct.ac.za']\n",
      "['stephen.marquard@uct.ac.za']\n"
     ]
    }
   ],
   "source": [
    "# Fine tuning string extraction\n",
    "x = 'From stephen.marquard@uct.ac.za Sat Jan  5 09:14:16 2008'\n",
    "print(re.findall(r'\\S+@\\S+', x)) # \\S = non-whitespace, + = one or more characters\n",
    "print(re.findall(r'^From (\\S+@\\S+)', x)) # ^ = start of line, () = extract only the email address\n",
    "print(re.findall(r'^From .*@([^ ]*)', x)) # .* = any character, zero or more times, () = extract only the domain name\n",
    "print(re.findall(r'\\S+?@\\S+', x)) # .* = any character, zero or more times, () = extract only the domain name\n"
   ]
  },
  {
   "cell_type": "code",
   "execution_count": 67,
   "metadata": {},
   "outputs": [
    {
     "name": "stdout",
     "output_type": "stream",
     "text": [
      "Maximum: 0.9907\n"
     ]
    }
   ],
   "source": [
    "hand = open('data/mbox-short.txt')\n",
    "numlist = list()\n",
    "for line in hand:\n",
    "    line = line.rstrip()\n",
    "    stuff = re.findall('^X-DSPAM-Confidence: ([0-9.]+)', line)\n",
    "    if len(stuff) != 1: continue\n",
    "    num = float(stuff[0])\n",
    "    numlist.append(num)\n",
    "print('Maximum:', max(numlist))"
   ]
  },
  {
   "cell_type": "code",
   "execution_count": 68,
   "metadata": {},
   "outputs": [
    {
     "name": "stdout",
     "output_type": "stream",
     "text": [
      "451722\n"
     ]
    }
   ],
   "source": [
    "# Regex assignment\n",
    "import re\n",
    "text = open('data/regex_assignment.txt')\n",
    "numlist = list()\n",
    "for line in text:\n",
    "    # line = line.rstrip()\n",
    "    numbers = re.findall('[0-9]+', line)\n",
    "    for number in numbers:\n",
    "        num = int(number)\n",
    "        numlist.append(num)\n",
    "print(sum(numlist))"
   ]
  }
 ],
 "metadata": {
  "kernelspec": {
   "display_name": ".venv",
   "language": "python",
   "name": "python3"
  },
  "language_info": {
   "codemirror_mode": {
    "name": "ipython",
    "version": 3
   },
   "file_extension": ".py",
   "mimetype": "text/x-python",
   "name": "python",
   "nbconvert_exporter": "python",
   "pygments_lexer": "ipython3",
   "version": "3.13.1"
  }
 },
 "nbformat": 4,
 "nbformat_minor": 2
}
