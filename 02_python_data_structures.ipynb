{
 "cells": [
  {
   "cell_type": "markdown",
   "metadata": {},
   "source": [
    "# Strings"
   ]
  },
  {
   "cell_type": "code",
   "execution_count": 1,
   "metadata": {},
   "outputs": [
    {
     "name": "stdout",
     "output_type": "stream",
     "text": [
      "ske\n",
      "le\n",
      "8\n"
     ]
    }
   ],
   "source": [
    "# String ranges\n",
    "text = 'skeleton'\n",
    "letter = text[0:3] #[0:3] is the range of the string. It means up to but NOT including 3\n",
    "range_example1 = text[:3] #[:3] is the same as [0:3]\n",
    "range_example2 = text[3:] #[3:] is the same as [3:letter_length]\n",
    "print(letter)\n",
    "\n",
    "x = 4\n",
    "example = text[x-1:x+1]\n",
    "print(example)\n",
    "\n",
    "letter_length = len(text)\n",
    "print(letter_length)"
   ]
  },
  {
   "cell_type": "code",
   "execution_count": 2,
   "metadata": {},
   "outputs": [
    {
     "name": "stdout",
     "output_type": "stream",
     "text": [
      "s\n",
      "k\n",
      "e\n",
      "l\n",
      "e\n",
      "t\n",
      "o\n",
      "n\n",
      "s\n",
      "k\n",
      "e\n",
      "l\n",
      "e\n",
      "t\n",
      "o\n",
      "n\n"
     ]
    }
   ],
   "source": [
    "# Looping through a string\n",
    "index = 0\n",
    "while index < len(text):\n",
    "    letter = text[index]\n",
    "    print(letter)\n",
    "    index = index + 1\n",
    "\n",
    "# This achieves the same\n",
    "for i in text:\n",
    "    print(i)"
   ]
  },
  {
   "cell_type": "code",
   "execution_count": 3,
   "metadata": {},
   "outputs": [
    {
     "name": "stdout",
     "output_type": "stream",
     "text": [
      "True\n",
      "Found it!\n"
     ]
    }
   ],
   "source": [
    "# in operator\n",
    "fruit = 'banana'\n",
    "print('n' in fruit) # in is a question that returns a boolean value\n",
    "\n",
    "if 'ana' in fruit:\n",
    "    print('Found it!')\n",
    "else:\n",
    "    print('Not found!')"
   ]
  },
  {
   "cell_type": "code",
   "execution_count": 4,
   "metadata": {},
   "outputs": [
    {
     "name": "stdout",
     "output_type": "stream",
     "text": [
      "hello poglo\n",
      "HELLO POGLO\n",
      "hola tu\n",
      "Hello my friend\n"
     ]
    }
   ],
   "source": [
    "greet = 'Hello Poglo'\n",
    "lowercase = greet.lower()\n",
    "print(lowercase)\n",
    "uppercase = greet.upper()\n",
    "print(uppercase)\n",
    "print('HoLa tU'.lower())\n",
    "\n",
    "spaced_word = '    Hello my friend   '\n",
    "print(spaced_word.strip()) # strip removes left and right whitespace.\n",
    "    # Also lstrip() for left and rstrip() for right"
   ]
  },
  {
   "cell_type": "code",
   "execution_count": 5,
   "metadata": {},
   "outputs": [
    {
     "name": "stdout",
     "output_type": "stream",
     "text": [
      "2\n"
     ]
    }
   ],
   "source": [
    "fruit = 'banana'\n",
    "print(fruit.find('na')) #find returns the index of the first occurence of the substring\n"
   ]
  },
  {
   "cell_type": "code",
   "execution_count": 6,
   "metadata": {},
   "outputs": [
    {
     "data": {
      "text/plain": [
       "True"
      ]
     },
     "execution_count": 6,
     "metadata": {},
     "output_type": "execute_result"
    }
   ],
   "source": [
    "line = 'Please have a nice day'\n",
    "line.startswith('Please')"
   ]
  },
  {
   "cell_type": "code",
   "execution_count": 7,
   "metadata": {},
   "outputs": [
    {
     "name": "stdout",
     "output_type": "stream",
     "text": [
      "21\n",
      "31\n",
      "uct.ac.za\n"
     ]
    }
   ],
   "source": [
    "data = 'From stephen.marquard@uct.ac.za Sat Jan 5 09:14:16 2008'\n",
    "atpos = data.find('@')\n",
    "print(atpos)\n",
    "sppos = data.find(' ', atpos) #the second argument is the starting point of the search\n",
    "print(sppos)\n",
    "host = data[atpos+1: sppos]\n",
    "print(host)"
   ]
  },
  {
   "cell_type": "code",
   "execution_count": 8,
   "metadata": {},
   "outputs": [
    {
     "name": "stdout",
     "output_type": "stream",
     "text": [
      "42\n"
     ]
    }
   ],
   "source": [
    "x = '40'\n",
    "y = int(x) + 2\n",
    "print(y)"
   ]
  },
  {
   "cell_type": "code",
   "execution_count": 9,
   "metadata": {},
   "outputs": [
    {
     "name": "stdout",
     "output_type": "stream",
     "text": [
      "0.8475\n"
     ]
    }
   ],
   "source": [
    "text = \"X-DSPAM-Confidence:    0.8475\"\n",
    "fnum = text.find('0')\n",
    "num = float(text[fnum:])\n",
    "print(num)\n"
   ]
  },
  {
   "cell_type": "markdown",
   "metadata": {},
   "source": [
    "# Files"
   ]
  },
  {
   "cell_type": "code",
   "execution_count": 14,
   "metadata": {},
   "outputs": [
    {
     "name": "stdout",
     "output_type": "stream",
     "text": [
      "<_io.TextIOWrapper name='C:/Users/ASUS/Desktop/Poglo_local/data_analysis/nesarc_research/requirements.txt' mode='r' encoding='cp1252'>\n"
     ]
    }
   ],
   "source": [
    "# Opening a file\n",
    "fhand = open(\n",
    "    'C:/Users/ASUS/Desktop/Poglo_local/data_analysis/nesarc_research/requirements.txt', 'r'\n",
    "    ) # opens the file\n",
    "    # r is for read, w for write to the file\n",
    "print(fhand)"
   ]
  },
  {
   "cell_type": "code",
   "execution_count": 15,
   "metadata": {},
   "outputs": [
    {
     "name": "stdout",
     "output_type": "stream",
     "text": [
      "Hello\n",
      "World!\n",
      "12\n"
     ]
    }
   ],
   "source": [
    "# Newline character\n",
    "stuff = 'Hello\\nWorld!'\n",
    "print(stuff)\n",
    "print(len(stuff))\t"
   ]
  },
  {
   "cell_type": "code",
   "execution_count": 16,
   "metadata": {},
   "outputs": [
    {
     "name": "stdout",
     "output_type": "stream",
     "text": [
      "ÿþa\u0000n\u0000y\u0000i\u0000o\u0000=\u0000=\u00004\u0000.\u00008\u0000.\u00000\u0000\n",
      "\n",
      "\u0000\n",
      "\n",
      "\u0000a\u0000r\u0000g\u0000o\u0000n\u00002\u0000-\u0000c\u0000f\u0000f\u0000i\u0000=\u0000=\u00002\u00003\u0000.\u00001\u0000.\u00000\u0000\n",
      "\n",
      "\u0000\n",
      "\n",
      "\u0000a\u0000r\u0000g\u0000o\u0000n\u00002\u0000-\u0000c\u0000f\u0000f\u0000i\u0000-\u0000b\u0000i\u0000n\u0000d\u0000i\u0000n\u0000g\u0000s\u0000=\u0000=\u00002\u00001\u0000.\u00002\u0000.\u00000\u0000\n",
      "\n",
      "\u0000\n",
      "\n",
      "\u0000a\u0000r\u0000r\u0000o\u0000w\u0000=\u0000=\u00001\u0000.\u00003\u0000.\u00000\u0000\n",
      "\n",
      "\u0000\n",
      "\n",
      "\u0000a\u0000s\u0000t\u0000t\u0000o\u0000k\u0000e\u0000n\u0000s\u0000=\u0000=\u00003\u0000.\u00000\u0000.\u00000\u0000\n",
      "\n",
      "\u0000\n",
      "\n",
      "\u0000a\u0000s\u0000y\u0000n\u0000c\u0000-\u0000l\u0000r\u0000u\u0000=\u0000=\u00002\u0000.\u00000\u0000.\u00004\u0000\n",
      "\n",
      "\u0000\n",
      "\n",
      "\u0000a\u0000t\u0000t\u0000r\u0000s\u0000=\u0000=\u00002\u00005\u0000.\u00001\u0000.\u00000\u0000\n",
      "\n",
      "\u0000\n",
      "\n",
      "\u0000b\u0000a\u0000b\u0000e\u0000l\u0000=\u0000=\u00002\u0000.\u00001\u00007\u0000.\u00000\u0000\n",
      "\n",
      "\u0000\n",
      "\n",
      "\u0000b\u0000e\u0000a\u0000u\u0000t\u0000i\u0000f\u0000u\u0000l\u0000s\u0000o\u0000u\u0000p\u00004\u0000=\u0000=\u00004\u0000.\u00001\u00003\u0000.\u00003\u0000\n",
      "\n",
      "\u0000\n",
      "\n",
      "\u0000b\u0000l\u0000e\u0000a\u0000c\u0000h\u0000=\u0000=\u00006\u0000.\u00002\u0000.\u00000\u0000\n",
      "\n",
      "\u0000\n",
      "\n",
      "\u0000c\u0000e\u0000r\u0000t\u0000i\u0000f\u0000i\u0000=\u0000=\u00002\u00000\u00002\u00005\u0000.\u00001\u0000.\u00003\u00001\u0000\n",
      "\n",
      "\u0000\n",
      "\n",
      "\u0000c\u0000f\u0000f\u0000i\u0000=\u0000=\u00001\u0000.\u00001\u00007\u0000.\u00001\u0000\n",
      "\n",
      "\u0000\n",
      "\n",
      "\u0000c\u0000h\u0000a\u0000r\u0000s\u0000e\u0000t\u0000-\u0000n\u0000o\u0000r\u0000m\u0000a\u0000l\u0000i\u0000z\u0000e\u0000r\u0000=\u0000=\u00003\u0000.\u00004\u0000.\u00001\u0000\n",
      "\n",
      "\u0000\n",
      "\n",
      "\u0000c\u0000o\u0000l\u0000o\u0000r\u0000a\u0000m\u0000a\u0000=\u0000=\u00000\u0000.\u00004\u0000.\u00006\u0000\n",
      "\n",
      "\u0000\n",
      "\n",
      "\u0000c\u0000o\u0000m\u0000m\u0000=\u0000=\u00000\u0000.\u00002\u0000.\u00002\u0000\n",
      "\n",
      "\u0000\n",
      "\n",
      "\u0000c\u0000o\u0000n\u0000t\u0000o\u0000u\u0000r\u0000p\u0000y\u0000=\u0000=\u00001\u0000.\u00003\u0000.\u00001\u0000\n",
      "\n",
      "\u0000\n",
      "\n",
      "\u0000c\u0000y\u0000c\u0000l\u0000e\u0000r\u0000=\u0000=\u00000\u0000.\u00001\u00002\u0000.\u00001\u0000\n",
      "\n",
      "\u0000\n",
      "\n",
      "\u0000d\u0000e\u0000b\u0000u\u0000g\u0000p\u0000y\u0000=\u0000=\u00001\u0000.\u00008\u0000.\u00001\u00002\u0000\n",
      "\n",
      "\u0000\n",
      "\n",
      "\u0000d\u0000e\u0000c\u0000o\u0000r\u0000a\u0000t\u0000o\u0000r\u0000=\u0000=\u00005\u0000.\u00001\u0000.\u00001\u0000\n",
      "\n",
      "\u0000\n",
      "\n",
      "\u0000d\u0000e\u0000f\u0000u\u0000s\u0000e\u0000d\u0000x\u0000m\u0000l\u0000=\u0000=\u00000\u0000.\u00007\u0000.\u00001\u0000\n",
      "\n",
      "\u0000\n",
      "\n",
      "\u0000e\u0000x\u0000e\u0000c\u0000u\u0000t\u0000i\u0000n\u0000g\u0000=\u0000=\u00002\u0000.\u00002\u0000.\u00000\u0000\n",
      "\n",
      "\u0000\n",
      "\n",
      "\u0000f\u0000a\u0000s\u0000t\u0000j\u0000s\u0000o\u0000n\u0000s\u0000c\u0000h\u0000e\u0000m\u0000a\u0000=\u0000=\u00002\u0000.\u00002\u00001\u0000.\u00001\u0000\n",
      "\n",
      "\u0000\n",
      "\n",
      "\u0000f\u0000o\u0000n\u0000t\u0000t\u0000o\u0000o\u0000l\u0000s\u0000=\u0000=\u00004\u0000.\u00005\u00006\u0000.\u00000\u0000\n",
      "\n",
      "\u0000\n",
      "\n",
      "\u0000f\u0000q\u0000d\u0000n\u0000=\u0000=\u00001\u0000.\u00005\u0000.\u00001\u0000\n",
      "\n",
      "\u0000\n",
      "\n",
      "\u0000h\u00001\u00001\u0000=\u0000=\u00000\u0000.\u00001\u00004\u0000.\u00000\u0000\n",
      "\n",
      "\u0000\n",
      "\n",
      "\u0000h\u0000t\u0000t\u0000p\u0000c\u0000o\u0000r\u0000e\u0000=\u0000=\u00001\u0000.\u00000\u0000.\u00007\u0000\n",
      "\n",
      "\u0000\n",
      "\n",
      "\u0000h\u0000t\u0000t\u0000p\u0000x\u0000=\u0000=\u00000\u0000.\u00002\u00008\u0000.\u00001\u0000\n",
      "\n",
      "\u0000\n",
      "\n",
      "\u0000i\u0000d\u0000n\u0000a\u0000=\u0000=\u00003\u0000.\u00001\u00000\u0000\n",
      "\n",
      "\u0000\n",
      "\n",
      "\u0000i\u0000p\u0000y\u0000k\u0000e\u0000r\u0000n\u0000e\u0000l\u0000=\u0000=\u00006\u0000.\u00002\u00009\u0000.\u00005\u0000\n",
      "\n",
      "\u0000\n",
      "\n",
      "\u0000i\u0000p\u0000y\u0000t\u0000h\u0000o\u0000n\u0000=\u0000=\u00008\u0000.\u00003\u00002\u0000.\u00000\u0000\n",
      "\n",
      "\u0000\n",
      "\n",
      "\u0000i\u0000p\u0000y\u0000w\u0000i\u0000d\u0000g\u0000e\u0000t\u0000s\u0000=\u0000=\u00008\u0000.\u00001\u0000.\u00005\u0000\n",
      "\n",
      "\u0000\n",
      "\n",
      "\u0000i\u0000s\u0000o\u0000d\u0000u\u0000r\u0000a\u0000t\u0000i\u0000o\u0000n\u0000=\u0000=\u00002\u00000\u0000.\u00001\u00001\u0000.\u00000\u0000\n",
      "\n",
      "\u0000\n",
      "\n",
      "\u0000j\u0000e\u0000d\u0000i\u0000=\u0000=\u00000\u0000.\u00001\u00009\u0000.\u00002\u0000\n",
      "\n",
      "\u0000\n",
      "\n",
      "\u0000J\u0000i\u0000n\u0000j\u0000a\u00002\u0000=\u0000=\u00003\u0000.\u00001\u0000.\u00005\u0000\n",
      "\n",
      "\u0000\n",
      "\n",
      "\u0000j\u0000s\u0000o\u0000n\u00005\u0000=\u0000=\u00000\u0000.\u00001\u00000\u0000.\u00000\u0000\n",
      "\n",
      "\u0000\n",
      "\n",
      "\u0000j\u0000s\u0000o\u0000n\u0000p\u0000o\u0000i\u0000n\u0000t\u0000e\u0000r\u0000=\u0000=\u00003\u0000.\u00000\u0000.\u00000\u0000\n",
      "\n",
      "\u0000\n",
      "\n",
      "\u0000j\u0000s\u0000o\u0000n\u0000s\u0000c\u0000h\u0000e\u0000m\u0000a\u0000=\u0000=\u00004\u0000.\u00002\u00003\u0000.\u00000\u0000\n",
      "\n",
      "\u0000\n",
      "\n",
      "\u0000j\u0000s\u0000o\u0000n\u0000s\u0000c\u0000h\u0000e\u0000m\u0000a\u0000-\u0000s\u0000p\u0000e\u0000c\u0000i\u0000f\u0000i\u0000c\u0000a\u0000t\u0000i\u0000o\u0000n\u0000s\u0000=\u0000=\u00002\u00000\u00002\u00004\u0000.\u00001\u00000\u0000.\u00001\u0000\n",
      "\n",
      "\u0000\n",
      "\n",
      "\u0000j\u0000u\u0000p\u0000y\u0000t\u0000e\u0000r\u0000=\u0000=\u00001\u0000.\u00001\u0000.\u00001\u0000\n",
      "\n",
      "\u0000\n",
      "\n",
      "\u0000j\u0000u\u0000p\u0000y\u0000t\u0000e\u0000r\u0000-\u0000c\u0000o\u0000n\u0000s\u0000o\u0000l\u0000e\u0000=\u0000=\u00006\u0000.\u00006\u0000.\u00003\u0000\n",
      "\n",
      "\u0000\n",
      "\n",
      "\u0000j\u0000u\u0000p\u0000y\u0000t\u0000e\u0000r\u0000-\u0000e\u0000v\u0000e\u0000n\u0000t\u0000s\u0000=\u0000=\u00000\u0000.\u00001\u00002\u0000.\u00000\u0000\n",
      "\n",
      "\u0000\n",
      "\n",
      "\u0000j\u0000u\u0000p\u0000y\u0000t\u0000e\u0000r\u0000-\u0000l\u0000s\u0000p\u0000=\u0000=\u00002\u0000.\u00002\u0000.\u00005\u0000\n",
      "\n",
      "\u0000\n",
      "\n",
      "\u0000j\u0000u\u0000p\u0000y\u0000t\u0000e\u0000r\u0000_\u0000c\u0000l\u0000i\u0000e\u0000n\u0000t\u0000=\u0000=\u00008\u0000.\u00006\u0000.\u00003\u0000\n",
      "\n",
      "\u0000\n",
      "\n",
      "\u0000j\u0000u\u0000p\u0000y\u0000t\u0000e\u0000r\u0000_\u0000c\u0000o\u0000r\u0000e\u0000=\u0000=\u00005\u0000.\u00007\u0000.\u00002\u0000\n",
      "\n",
      "\u0000\n",
      "\n",
      "\u0000j\u0000u\u0000p\u0000y\u0000t\u0000e\u0000r\u0000_\u0000s\u0000e\u0000r\u0000v\u0000e\u0000r\u0000=\u0000=\u00002\u0000.\u00001\u00005\u0000.\u00000\u0000\n",
      "\n",
      "\u0000\n",
      "\n",
      "\u0000j\u0000u\u0000p\u0000y\u0000t\u0000e\u0000r\u0000_\u0000s\u0000e\u0000r\u0000v\u0000e\u0000r\u0000_\u0000t\u0000e\u0000r\u0000m\u0000i\u0000n\u0000a\u0000l\u0000s\u0000=\u0000=\u00000\u0000.\u00005\u0000.\u00003\u0000\n",
      "\n",
      "\u0000\n",
      "\n",
      "\u0000j\u0000u\u0000p\u0000y\u0000t\u0000e\u0000r\u0000l\u0000a\u0000b\u0000=\u0000=\u00004\u0000.\u00003\u0000.\u00005\u0000\n",
      "\n",
      "\u0000\n",
      "\n",
      "\u0000j\u0000u\u0000p\u0000y\u0000t\u0000e\u0000r\u0000l\u0000a\u0000b\u0000_\u0000p\u0000y\u0000g\u0000m\u0000e\u0000n\u0000t\u0000s\u0000=\u0000=\u00000\u0000.\u00003\u0000.\u00000\u0000\n",
      "\n",
      "\u0000\n",
      "\n",
      "\u0000j\u0000u\u0000p\u0000y\u0000t\u0000e\u0000r\u0000l\u0000a\u0000b\u0000_\u0000s\u0000e\u0000r\u0000v\u0000e\u0000r\u0000=\u0000=\u00002\u0000.\u00002\u00007\u0000.\u00003\u0000\n",
      "\n",
      "\u0000\n",
      "\n",
      "\u0000j\u0000u\u0000p\u0000y\u0000t\u0000e\u0000r\u0000l\u0000a\u0000b\u0000_\u0000w\u0000i\u0000d\u0000g\u0000e\u0000t\u0000s\u0000=\u0000=\u00003\u0000.\u00000\u0000.\u00001\u00003\u0000\n",
      "\n",
      "\u0000\n",
      "\n",
      "\u0000k\u0000i\u0000w\u0000i\u0000s\u0000o\u0000l\u0000v\u0000e\u0000r\u0000=\u0000=\u00001\u0000.\u00004\u0000.\u00008\u0000\n",
      "\n",
      "\u0000\n",
      "\n",
      "\u0000M\u0000a\u0000r\u0000k\u0000u\u0000p\u0000S\u0000a\u0000f\u0000e\u0000=\u0000=\u00003\u0000.\u00000\u0000.\u00002\u0000\n",
      "\n",
      "\u0000\n",
      "\n",
      "\u0000m\u0000a\u0000t\u0000p\u0000l\u0000o\u0000t\u0000l\u0000i\u0000b\u0000=\u0000=\u00003\u0000.\u00001\u00000\u0000.\u00000\u0000\n",
      "\n",
      "\u0000\n",
      "\n",
      "\u0000m\u0000a\u0000t\u0000p\u0000l\u0000o\u0000t\u0000l\u0000i\u0000b\u0000-\u0000i\u0000n\u0000l\u0000i\u0000n\u0000e\u0000=\u0000=\u00000\u0000.\u00001\u0000.\u00007\u0000\n",
      "\n",
      "\u0000\n",
      "\n",
      "\u0000m\u0000i\u0000s\u0000t\u0000u\u0000n\u0000e\u0000=\u0000=\u00003\u0000.\u00001\u0000.\u00001\u0000\n",
      "\n",
      "\u0000\n",
      "\n",
      "\u0000n\u0000b\u0000c\u0000l\u0000i\u0000e\u0000n\u0000t\u0000=\u0000=\u00000\u0000.\u00001\u00000\u0000.\u00002\u0000\n",
      "\n",
      "\u0000\n",
      "\n",
      "\u0000n\u0000b\u0000c\u0000o\u0000n\u0000v\u0000e\u0000r\u0000t\u0000=\u0000=\u00007\u0000.\u00001\u00006\u0000.\u00006\u0000\n",
      "\n",
      "\u0000\n",
      "\n",
      "\u0000n\u0000b\u0000f\u0000o\u0000r\u0000m\u0000a\u0000t\u0000=\u0000=\u00005\u0000.\u00001\u00000\u0000.\u00004\u0000\n",
      "\n",
      "\u0000\n",
      "\n",
      "\u0000n\u0000e\u0000s\u0000t\u0000-\u0000a\u0000s\u0000y\u0000n\u0000c\u0000i\u0000o\u0000=\u0000=\u00001\u0000.\u00006\u0000.\u00000\u0000\n",
      "\n",
      "\u0000\n",
      "\n",
      "\u0000n\u0000o\u0000t\u0000e\u0000b\u0000o\u0000o\u0000k\u0000=\u0000=\u00007\u0000.\u00003\u0000.\u00002\u0000\n",
      "\n",
      "\u0000\n",
      "\n",
      "\u0000n\u0000o\u0000t\u0000e\u0000b\u0000o\u0000o\u0000k\u0000_\u0000s\u0000h\u0000i\u0000m\u0000=\u0000=\u00000\u0000.\u00002\u0000.\u00004\u0000\n",
      "\n",
      "\u0000\n",
      "\n",
      "\u0000n\u0000u\u0000m\u0000p\u0000y\u0000=\u0000=\u00002\u0000.\u00002\u0000.\u00003\u0000\n",
      "\n",
      "\u0000\n",
      "\n",
      "\u0000o\u0000v\u0000e\u0000r\u0000r\u0000i\u0000d\u0000e\u0000s\u0000=\u0000=\u00007\u0000.\u00007\u0000.\u00000\u0000\n",
      "\n",
      "\u0000\n",
      "\n",
      "\u0000p\u0000a\u0000c\u0000k\u0000a\u0000g\u0000i\u0000n\u0000g\u0000=\u0000=\u00002\u00004\u0000.\u00002\u0000\n",
      "\n",
      "\u0000\n",
      "\n",
      "\u0000p\u0000a\u0000n\u0000d\u0000a\u0000s\u0000=\u0000=\u00002\u0000.\u00002\u0000.\u00003\u0000\n",
      "\n",
      "\u0000\n",
      "\n",
      "\u0000p\u0000a\u0000n\u0000d\u0000o\u0000c\u0000f\u0000i\u0000l\u0000t\u0000e\u0000r\u0000s\u0000=\u0000=\u00001\u0000.\u00005\u0000.\u00001\u0000\n",
      "\n",
      "\u0000\n",
      "\n",
      "\u0000p\u0000a\u0000r\u0000s\u0000o\u0000=\u0000=\u00000\u0000.\u00008\u0000.\u00004\u0000\n",
      "\n",
      "\u0000\n",
      "\n",
      "\u0000p\u0000a\u0000t\u0000s\u0000y\u0000=\u0000=\u00001\u0000.\u00000\u0000.\u00001\u0000\n",
      "\n",
      "\u0000\n",
      "\n",
      "\u0000p\u0000i\u0000l\u0000l\u0000o\u0000w\u0000=\u0000=\u00001\u00001\u0000.\u00001\u0000.\u00000\u0000\n",
      "\n",
      "\u0000\n",
      "\n",
      "\u0000p\u0000l\u0000a\u0000t\u0000f\u0000o\u0000r\u0000m\u0000d\u0000i\u0000r\u0000s\u0000=\u0000=\u00004\u0000.\u00003\u0000.\u00006\u0000\n",
      "\n",
      "\u0000\n",
      "\n",
      "\u0000p\u0000r\u0000o\u0000m\u0000e\u0000t\u0000h\u0000e\u0000u\u0000s\u0000_\u0000c\u0000l\u0000i\u0000e\u0000n\u0000t\u0000=\u0000=\u00000\u0000.\u00002\u00001\u0000.\u00001\u0000\n",
      "\n",
      "\u0000\n",
      "\n",
      "\u0000p\u0000r\u0000o\u0000m\u0000p\u0000t\u0000_\u0000t\u0000o\u0000o\u0000l\u0000k\u0000i\u0000t\u0000=\u0000=\u00003\u0000.\u00000\u0000.\u00005\u00000\u0000\n",
      "\n",
      "\u0000\n",
      "\n",
      "\u0000p\u0000s\u0000u\u0000t\u0000i\u0000l\u0000=\u0000=\u00007\u0000.\u00000\u0000.\u00000\u0000\n",
      "\n",
      "\u0000\n",
      "\n",
      "\u0000p\u0000u\u0000r\u0000e\u0000_\u0000e\u0000v\u0000a\u0000l\u0000=\u0000=\u00000\u0000.\u00002\u0000.\u00003\u0000\n",
      "\n",
      "\u0000\n",
      "\n",
      "\u0000p\u0000y\u0000c\u0000p\u0000a\u0000r\u0000s\u0000e\u0000r\u0000=\u0000=\u00002\u0000.\u00002\u00002\u0000\n",
      "\n",
      "\u0000\n",
      "\n",
      "\u0000P\u0000y\u0000g\u0000m\u0000e\u0000n\u0000t\u0000s\u0000=\u0000=\u00002\u0000.\u00001\u00009\u0000.\u00001\u0000\n",
      "\n",
      "\u0000\n",
      "\n",
      "\u0000p\u0000y\u0000p\u0000a\u0000r\u0000s\u0000i\u0000n\u0000g\u0000=\u0000=\u00003\u0000.\u00002\u0000.\u00001\u0000\n",
      "\n",
      "\u0000\n",
      "\n",
      "\u0000p\u0000y\u0000t\u0000h\u0000o\u0000n\u0000-\u0000d\u0000a\u0000t\u0000e\u0000u\u0000t\u0000i\u0000l\u0000=\u0000=\u00002\u0000.\u00009\u0000.\u00000\u0000.\u0000p\u0000o\u0000s\u0000t\u00000\u0000\n",
      "\n",
      "\u0000\n",
      "\n",
      "\u0000p\u0000y\u0000t\u0000h\u0000o\u0000n\u0000-\u0000j\u0000s\u0000o\u0000n\u0000-\u0000l\u0000o\u0000g\u0000g\u0000e\u0000r\u0000=\u0000=\u00003\u0000.\u00002\u0000.\u00001\u0000\n",
      "\n",
      "\u0000\n",
      "\n",
      "\u0000p\u0000y\u0000t\u0000z\u0000=\u0000=\u00002\u00000\u00002\u00005\u0000.\u00001\u0000\n",
      "\n",
      "\u0000\n",
      "\n",
      "\u0000p\u0000y\u0000w\u0000i\u0000n\u00003\u00002\u0000=\u0000=\u00003\u00000\u00008\u0000\n",
      "\n",
      "\u0000\n",
      "\n",
      "\u0000p\u0000y\u0000w\u0000i\u0000n\u0000p\u0000t\u0000y\u0000=\u0000=\u00002\u0000.\u00000\u0000.\u00001\u00005\u0000\n",
      "\n",
      "\u0000\n",
      "\n",
      "\u0000P\u0000y\u0000Y\u0000A\u0000M\u0000L\u0000=\u0000=\u00006\u0000.\u00000\u0000.\u00002\u0000\n",
      "\n",
      "\u0000\n",
      "\n",
      "\u0000p\u0000y\u0000z\u0000m\u0000q\u0000=\u0000=\u00002\u00006\u0000.\u00002\u0000.\u00001\u0000\n",
      "\n",
      "\u0000\n",
      "\n",
      "\u0000r\u0000e\u0000f\u0000e\u0000r\u0000e\u0000n\u0000c\u0000i\u0000n\u0000g\u0000=\u0000=\u00000\u0000.\u00003\u00006\u0000.\u00002\u0000\n",
      "\n",
      "\u0000\n",
      "\n",
      "\u0000r\u0000e\u0000q\u0000u\u0000e\u0000s\u0000t\u0000s\u0000=\u0000=\u00002\u0000.\u00003\u00002\u0000.\u00003\u0000\n",
      "\n",
      "\u0000\n",
      "\n",
      "\u0000r\u0000f\u0000c\u00003\u00003\u00003\u00009\u0000-\u0000v\u0000a\u0000l\u0000i\u0000d\u0000a\u0000t\u0000o\u0000r\u0000=\u0000=\u00000\u0000.\u00001\u0000.\u00004\u0000\n",
      "\n",
      "\u0000\n",
      "\n",
      "\u0000r\u0000f\u0000c\u00003\u00009\u00008\u00006\u0000-\u0000v\u0000a\u0000l\u0000i\u0000d\u0000a\u0000t\u0000o\u0000r\u0000=\u0000=\u00000\u0000.\u00001\u0000.\u00001\u0000\n",
      "\n",
      "\u0000\n",
      "\n",
      "\u0000r\u0000p\u0000d\u0000s\u0000-\u0000p\u0000y\u0000=\u0000=\u00000\u0000.\u00002\u00002\u0000.\u00003\u0000\n",
      "\n",
      "\u0000\n",
      "\n",
      "\u0000s\u0000c\u0000i\u0000p\u0000y\u0000=\u0000=\u00001\u0000.\u00001\u00005\u0000.\u00002\u0000\n",
      "\n",
      "\u0000\n",
      "\n",
      "\u0000s\u0000e\u0000a\u0000b\u0000o\u0000r\u0000n\u0000=\u0000=\u00000\u0000.\u00001\u00003\u0000.\u00002\u0000\n",
      "\n",
      "\u0000\n",
      "\n",
      "\u0000S\u0000e\u0000n\u0000d\u00002\u0000T\u0000r\u0000a\u0000s\u0000h\u0000=\u0000=\u00001\u0000.\u00008\u0000.\u00003\u0000\n",
      "\n",
      "\u0000\n",
      "\n",
      "\u0000s\u0000e\u0000t\u0000u\u0000p\u0000t\u0000o\u0000o\u0000l\u0000s\u0000=\u0000=\u00007\u00005\u0000.\u00008\u0000.\u00000\u0000\n",
      "\n",
      "\u0000\n",
      "\n",
      "\u0000s\u0000i\u0000x\u0000=\u0000=\u00001\u0000.\u00001\u00007\u0000.\u00000\u0000\n",
      "\n",
      "\u0000\n",
      "\n",
      "\u0000s\u0000n\u0000i\u0000f\u0000f\u0000i\u0000o\u0000=\u0000=\u00001\u0000.\u00003\u0000.\u00001\u0000\n",
      "\n",
      "\u0000\n",
      "\n",
      "\u0000s\u0000o\u0000u\u0000p\u0000s\u0000i\u0000e\u0000v\u0000e\u0000=\u0000=\u00002\u0000.\u00006\u0000\n",
      "\n",
      "\u0000\n",
      "\n",
      "\u0000s\u0000t\u0000a\u0000c\u0000k\u0000-\u0000d\u0000a\u0000t\u0000a\u0000=\u0000=\u00000\u0000.\u00006\u0000.\u00003\u0000\n",
      "\n",
      "\u0000\n",
      "\n",
      "\u0000s\u0000t\u0000a\u0000t\u0000s\u0000m\u0000o\u0000d\u0000e\u0000l\u0000s\u0000=\u0000=\u00000\u0000.\u00001\u00004\u0000.\u00004\u0000\n",
      "\n",
      "\u0000\n",
      "\n",
      "\u0000t\u0000e\u0000r\u0000m\u0000i\u0000n\u0000a\u0000d\u0000o\u0000=\u0000=\u00000\u0000.\u00001\u00008\u0000.\u00001\u0000\n",
      "\n",
      "\u0000\n",
      "\n",
      "\u0000t\u0000i\u0000n\u0000y\u0000c\u0000s\u0000s\u00002\u0000=\u0000=\u00001\u0000.\u00004\u0000.\u00000\u0000\n",
      "\n",
      "\u0000\n",
      "\n",
      "\u0000t\u0000o\u0000r\u0000n\u0000a\u0000d\u0000o\u0000=\u0000=\u00006\u0000.\u00004\u0000.\u00002\u0000\n",
      "\n",
      "\u0000\n",
      "\n",
      "\u0000t\u0000r\u0000a\u0000i\u0000t\u0000l\u0000e\u0000t\u0000s\u0000=\u0000=\u00005\u0000.\u00001\u00004\u0000.\u00003\u0000\n",
      "\n",
      "\u0000\n",
      "\n",
      "\u0000t\u0000y\u0000p\u0000e\u0000s\u0000-\u0000p\u0000y\u0000t\u0000h\u0000o\u0000n\u0000-\u0000d\u0000a\u0000t\u0000e\u0000u\u0000t\u0000i\u0000l\u0000=\u0000=\u00002\u0000.\u00009\u0000.\u00000\u0000.\u00002\u00000\u00002\u00004\u00001\u00002\u00000\u00006\u0000\n",
      "\n",
      "\u0000\n",
      "\n",
      "\u0000t\u0000y\u0000p\u0000i\u0000n\u0000g\u0000_\u0000e\u0000x\u0000t\u0000e\u0000n\u0000s\u0000i\u0000o\u0000n\u0000s\u0000=\u0000=\u00004\u0000.\u00001\u00002\u0000.\u00002\u0000\n",
      "\n",
      "\u0000\n",
      "\n",
      "\u0000t\u0000z\u0000d\u0000a\u0000t\u0000a\u0000=\u0000=\u00002\u00000\u00002\u00005\u0000.\u00001\u0000\n",
      "\n",
      "\u0000\n",
      "\n",
      "\u0000u\u0000r\u0000i\u0000-\u0000t\u0000e\u0000m\u0000p\u0000l\u0000a\u0000t\u0000e\u0000=\u0000=\u00001\u0000.\u00003\u0000.\u00000\u0000\n",
      "\n",
      "\u0000\n",
      "\n",
      "\u0000u\u0000r\u0000l\u0000l\u0000i\u0000b\u00003\u0000=\u0000=\u00002\u0000.\u00003\u0000.\u00000\u0000\n",
      "\n",
      "\u0000\n",
      "\n",
      "\u0000w\u0000c\u0000w\u0000i\u0000d\u0000t\u0000h\u0000=\u0000=\u00000\u0000.\u00002\u0000.\u00001\u00003\u0000\n",
      "\n",
      "\u0000\n",
      "\n",
      "\u0000w\u0000e\u0000b\u0000c\u0000o\u0000l\u0000o\u0000r\u0000s\u0000=\u0000=\u00002\u00004\u0000.\u00001\u00001\u0000.\u00001\u0000\n",
      "\n",
      "\u0000\n",
      "\n",
      "\u0000w\u0000e\u0000b\u0000e\u0000n\u0000c\u0000o\u0000d\u0000i\u0000n\u0000g\u0000s\u0000=\u0000=\u00000\u0000.\u00005\u0000.\u00001\u0000\n",
      "\n",
      "\u0000\n",
      "\n",
      "\u0000w\u0000e\u0000b\u0000s\u0000o\u0000c\u0000k\u0000e\u0000t\u0000-\u0000c\u0000l\u0000i\u0000e\u0000n\u0000t\u0000=\u0000=\u00001\u0000.\u00008\u0000.\u00000\u0000\n",
      "\n",
      "\u0000\n",
      "\n",
      "\u0000w\u0000i\u0000d\u0000g\u0000e\u0000t\u0000s\u0000n\u0000b\u0000e\u0000x\u0000t\u0000e\u0000n\u0000s\u0000i\u0000o\u0000n\u0000=\u0000=\u00004\u0000.\u00000\u0000.\u00001\u00003\u0000\n",
      "\n",
      "\u0000\n",
      "\n",
      "\u0000\n"
     ]
    }
   ],
   "source": [
    "# Reading files\n",
    "for i in fhand: # It iterates through all the lines of the file\n",
    "    print(i)"
   ]
  },
  {
   "cell_type": "code",
   "execution_count": 19,
   "metadata": {},
   "outputs": [
    {
     "name": "stdout",
     "output_type": "stream",
     "text": [
      "225\n"
     ]
    }
   ],
   "source": [
    "# File length counter\n",
    "fhand = open(\n",
    "    'C:/Users/ASUS/Desktop/Poglo_local/data_analysis/nesarc_research/requirements.txt', 'r'\n",
    ")\n",
    "count = 0\n",
    "for i in fhand:\n",
    "    count = count + 1\n",
    "print(count)"
   ]
  },
  {
   "cell_type": "code",
   "execution_count": 20,
   "metadata": {},
   "outputs": [],
   "source": [
    "fhand = open(\n",
    "    'C:/Users/ASUS/Desktop/Poglo_local/data_analysis/nesarc_research/requirements.txt', 'r'\n",
    ")\n",
    "x = fhand.read() # reads the whole file as a single string\n",
    "# print(len(x)) # prints the length of the string\n",
    "# print(x[:24]) # prints the first 20 characters of the string"
   ]
  },
  {
   "cell_type": "code",
   "execution_count": 21,
   "metadata": {},
   "outputs": [],
   "source": [
    "fhand = open(\n",
    "    'C:/Users/ASUS/Desktop/Poglo_local/data_analysis/nesarc_research/requirements.txt', 'r'\n",
    ")\n",
    "for line in fhand:\n",
    "    if  line.startswith(\"X-DSPAM-Confidence:\"):    \n",
    "        print(\"Done\")\n"
   ]
  },
  {
   "cell_type": "code",
   "execution_count": null,
   "metadata": {},
   "outputs": [],
   "source": [
    "# 7.2 Write a program that prompts for a file name, then opens that file and reads \n",
    "# through the file, looking for lines of the form:\n",
    "# X-DSPAM-Confidence:    0.8475\n",
    "# Count these lines and extract the floating point values from each of the lines \n",
    "# and compute the average of those values and produce an output as shown below. Do \n",
    "# not use the sum() function or a variable named sum in your solution.\n",
    "# You can download the sample data at http://www.py4e.com/code3/mbox-short.txt when \n",
    "# you are testing below enter mbox-short.txt as the file name.# Use the file name \n",
    "# mbox-short.txt as the file name"
   ]
  },
  {
   "cell_type": "code",
   "execution_count": 26,
   "metadata": {},
   "outputs": [
    {
     "name": "stdout",
     "output_type": "stream",
     "text": [
      "Average spam confidence: 0.7507185185185187\n"
     ]
    }
   ],
   "source": [
    "# Assignment 7.2 from cell above\n",
    "fname = input('Enter file name: ')\n",
    "fhand = open(f'data/{fname}')\n",
    "total = 0\n",
    "count = 0\n",
    "\n",
    "for line in fhand:\n",
    "    if line.startswith('X-DSPAM-Confidence:'):\n",
    "        num_pos = line.find('0')\n",
    "        end_pos = line.find(' ', num_pos)\n",
    "        num = float(line[num_pos:end_pos])\n",
    "        total += num\n",
    "        count += 1\n",
    "if count > 0:\n",
    "    average = total/count\n",
    "    print(f'Average spam confidence: {average}')"
   ]
  },
  {
   "cell_type": "markdown",
   "metadata": {},
   "source": [
    "# Collections\n",
    "Variables in which you can put more than one variable"
   ]
  },
  {
   "cell_type": "markdown",
   "metadata": {},
   "source": [
    "## Lists"
   ]
  },
  {
   "cell_type": "code",
   "execution_count": 27,
   "metadata": {},
   "outputs": [
    {
     "name": "stdout",
     "output_type": "stream",
     "text": [
      "['Joseph', 'Glenn', 'Sally']\n",
      "['Joseph', [1, 2, 3], 3.1415]\n",
      "Glenn\n",
      "['Joseph', 'Allen', 'Sally']\n",
      "['Allen', 'Sally']\n",
      "range(0, 4)\n",
      "Happy new year Joseph\n",
      "Happy new year Allen\n",
      "Happy new year Sally\n"
     ]
    }
   ],
   "source": [
    "''' a collection allow us to put many values in a single variable'''\n",
    "# A LIST is a collection of values\n",
    "friends = ['Joseph', 'Glenn', 'Sally']\n",
    "carry_on = ['poglo', 42, 3.1415]\n",
    "print(friends)\n",
    "\n",
    "# A element in a list can be any other Python object, even another list\n",
    "lista = ['Joseph', [1, 2, 3], 3.1415]\n",
    "print(lista)\n",
    "\n",
    "# A list can be empty\n",
    "empty = []\n",
    "\n",
    "# elements in a list can be accessed by an index\n",
    "print(friends[1])\n",
    "\n",
    "# Lists are mutable\n",
    "friends[1] = 'Allen'\n",
    "print(friends)\n",
    "\n",
    "# you can iterate through a list\n",
    "# for friend in friends:\n",
    "#     print ('Happy new year', friend)\n",
    "\n",
    "# Lists can be sliced\n",
    "print(friends[1:3])\n",
    "\n",
    "# range function returns a list of numbers that range from zero to one less than the parameter\n",
    "print(range(4))\n",
    "\n",
    "# \n",
    "for i in range(len(friends)):\n",
    "    friend = friends[i]\n",
    "    print('Happy new year', friend)\n"
   ]
  },
  {
   "cell_type": "code",
   "execution_count": 28,
   "metadata": {},
   "outputs": [
    {
     "name": "stdout",
     "output_type": "stream",
     "text": [
      "[1, 2, 3, 4, 5, 6]\n",
      "[41, 12, 3]\n",
      "[9, 41, 12, 3, 74, 15, 10]\n",
      "1\n",
      "[9, 41, 12, 3, 74, 15]\n",
      "[9, 41, 12, 10, 3, 74, 15]\n",
      "['book', 99]\n",
      "True\n",
      "['Joseph', 'Allen', 'Sally']\n",
      "['Allen', 'Joseph', 'Sally']\n"
     ]
    }
   ],
   "source": [
    "# Manipulating lists\n",
    "\n",
    "# concatenating lists\n",
    "a = [1, 2, 3]\n",
    "b = [4, 5, 6]\n",
    "c = a + b\n",
    "print(c)\n",
    "\n",
    "# slicing lists\n",
    "t = [9, 41, 12, 3, 74, 15]\n",
    "print(t[1:4])\n",
    "\n",
    "# Append \n",
    "t.append(10) # adds 10 to the end of the list\n",
    "print(t)\n",
    "\n",
    "# count\n",
    "print(t.count(10)) # counts the number of times 10 appears in the list\n",
    "\n",
    "# remove\n",
    "t.remove(10) # removes the first occurence of 10 in the list\n",
    "print(t)\n",
    "\n",
    "# insert\n",
    "t.insert(3, 10) # inserts 10 at index 3\n",
    "print(t)\n",
    "\n",
    "# bulding a list from scratch\n",
    "stuff = list()\n",
    "stuff.append('book')\n",
    "stuff.append(99)\n",
    "print(stuff)\n",
    "\n",
    "# is something in a list?\n",
    "print(99 in stuff)\n",
    "\n",
    "# sorting (lists must be of the same type)\n",
    "print(friends)\n",
    "friends.sort()\n",
    "print(friends)"
   ]
  },
  {
   "cell_type": "code",
   "execution_count": 29,
   "metadata": {},
   "outputs": [
    {
     "name": "stdout",
     "output_type": "stream",
     "text": [
      "Average: 337.42857142857144\n"
     ]
    }
   ],
   "source": [
    "# finding average using lists\n",
    "numlist = list()\n",
    "while True:\n",
    "    inp = input('Enter a number: ')\n",
    "    if inp == 'done': break\n",
    "    value = float(inp)\n",
    "    numlist.append(value)\n",
    "average = sum(numlist)/len(numlist)\n",
    "print('Average:', average)"
   ]
  },
  {
   "cell_type": "code",
   "execution_count": 30,
   "metadata": {},
   "outputs": [
    {
     "name": "stdout",
     "output_type": "stream",
     "text": [
      "['With', 'three', 'words']\n",
      "['eres', ' muy', ' grande']\n"
     ]
    }
   ],
   "source": [
    "# Strings and lists\n",
    "abc = 'With three words'\n",
    "stuff = abc.split() # split returns a list of strings\n",
    "print(stuff)\n",
    "# it uses spaces as delimiters by default, but can be changed\n",
    "thing = 'eres; muy; grande'\n",
    "stuff = thing.split(';')   \n",
    "print(stuff)\n"
   ]
  },
  {
   "cell_type": "markdown",
   "metadata": {},
   "source": [
    "### Assignments"
   ]
  },
  {
   "cell_type": "code",
   "execution_count": 33,
   "metadata": {},
   "outputs": [
    {
     "name": "stdout",
     "output_type": "stream",
     "text": [
      "['Arise', 'But', 'It', 'Juliet', 'Who', 'already', 'and', 'breaks', 'east', 'envious', 'fair', 'grief', 'is', 'kill', 'light', 'moon', 'pale', 'sick', 'soft', 'sun', 'the', 'through', 'what', 'window', 'with', 'yonder']\n"
     ]
    }
   ],
   "source": [
    "# Assignment 8.4\n",
    "file = open('data/romeo.txt')\n",
    "my_list = []\n",
    "for line in file:\n",
    "    words = line.split()\n",
    "    for word in words:\n",
    "        if word not in my_list:\n",
    "            my_list.append(word)\n",
    "my_list.sort()\n",
    "print(my_list)"
   ]
  },
  {
   "cell_type": "code",
   "execution_count": 35,
   "metadata": {},
   "outputs": [
    {
     "name": "stdout",
     "output_type": "stream",
     "text": [
      "stephen.marquard@uct.ac.za\n",
      "louis@media.berkeley.edu\n",
      "zqian@umich.edu\n",
      "rjlowe@iupui.edu\n",
      "zqian@umich.edu\n",
      "rjlowe@iupui.edu\n",
      "cwen@iupui.edu\n",
      "cwen@iupui.edu\n",
      "gsilver@umich.edu\n",
      "gsilver@umich.edu\n",
      "zqian@umich.edu\n",
      "gsilver@umich.edu\n",
      "wagnermr@iupui.edu\n",
      "zqian@umich.edu\n",
      "antranig@caret.cam.ac.uk\n",
      "gopal.ramasammycook@gmail.com\n",
      "david.horwitz@uct.ac.za\n",
      "david.horwitz@uct.ac.za\n",
      "david.horwitz@uct.ac.za\n",
      "david.horwitz@uct.ac.za\n",
      "stephen.marquard@uct.ac.za\n",
      "louis@media.berkeley.edu\n",
      "louis@media.berkeley.edu\n",
      "ray@media.berkeley.edu\n",
      "cwen@iupui.edu\n",
      "cwen@iupui.edu\n",
      "cwen@iupui.edu\n",
      "There were 27 lines in the file with From as the first word\n"
     ]
    }
   ],
   "source": [
    "file = open('data/mbox-short.txt')\n",
    "count = 0\n",
    "for line in file:\n",
    "    if line.startswith('From: '):\n",
    "        line.split()\n",
    "        print(line.split()[1])\n",
    "        count = count + 1\n",
    "print(f'There were {count} lines in the file with From as the first word')"
   ]
  },
  {
   "cell_type": "markdown",
   "metadata": {},
   "source": [
    "## Dictionaries"
   ]
  },
  {
   "cell_type": "code",
   "execution_count": 36,
   "metadata": {},
   "outputs": [
    {
     "name": "stdout",
     "output_type": "stream",
     "text": [
      "{'summer': 12, 'fall': 3, 'spring': 75}\n",
      "3\n",
      "{'summer': 12, 'fall': 5, 'spring': 75}\n",
      "{'dog': 'bark', 'cat': 'meow', 'cow': 'moo'}\n"
     ]
    }
   ],
   "source": [
    "# A linear collection of key-value pairs. Lookup by its key\n",
    "#   they are pythons most powerful data collection\n",
    "cabinet = dict()\n",
    "cabinet['summer'] = 12\n",
    "cabinet['fall'] = 3\n",
    "cabinet['spring'] = 75\n",
    "print(cabinet)\n",
    "print(cabinet['fall'])\n",
    "\n",
    "cabinet['fall'] = cabinet['fall'] + 2 # Also mutable\n",
    "print(cabinet)\n",
    "\n",
    "# They are similar to dictionaries, but they use keys instead\n",
    "# of numerical indexes to access elements\n",
    "\n",
    "# Creating a dictionary with literals\n",
    "my_dict = {}\n",
    "my_dict['dog'] = 'bark'\n",
    "my_dict['cat'] = 'meow'\n",
    "my_dict['cow'] = 'moo'\n",
    "print(my_dict)"
   ]
  },
  {
   "cell_type": "code",
   "execution_count": 37,
   "metadata": {},
   "outputs": [
    {
     "name": "stdout",
     "output_type": "stream",
     "text": [
      "{'csev': 2, 'cwen': 2, 'zqian': 1}\n",
      "{'csev': 4, 'cwen': 4, 'zqian': 2}\n"
     ]
    }
   ],
   "source": [
    "# We can use dictionaries to count the frequency of words in a text\n",
    "counts = dict()\n",
    "names = ['csev', 'cwen', 'csev', 'zqian', 'cwen']\n",
    "for name in names:\n",
    "    if name not in counts:\n",
    "        counts[name] = 1\n",
    "    else:\n",
    "        counts[name] = counts[name] + 1\n",
    "print(counts)\n",
    "\n",
    "# The get method for dictionaries\n",
    "for name in names:\n",
    "    counts[name] = counts.get(name, 0) + 1\n",
    "print(counts)"
   ]
  },
  {
   "cell_type": "code",
   "execution_count": 38,
   "metadata": {},
   "outputs": [
    {
     "data": {
      "text/plain": [
       "'Writing programs (or programming) is a very creative and rewarding activity. You can write\\nprograms for many reasons ranging from making your living to solving a dificult data analysis\\nproblem to having fun to helping someone else solve a problem- T his book assumes that\\neveryone needs to know how to program and that once you know how to program, you Will figure\\nout what you want to do with your newfound skills.\\nWe are surrounded in our daily lives with computers ranging from laptops to cell phones. We\\ncan think Of these computers as Our -personal assistants• who can take care Of many things on\\nour behalf. The hardware in our current-day computers is essentially built to continuously ask us\\nthe question, \"What would you like me to do next?\"\\nOur computers are fast and have vast amounts of memory and could be very helpful to us if we\\nonly knew the language to speak to explain to the computer what we would like it to do next. If\\nwe knew this language we could tell the cornputer to do tasks on our behalf that were repetitive.\\nInterestingly, the kinds of things computers can do best are often the kinds of things that we\\nhumans find bori and mind-numbi'"
      ]
     },
     "execution_count": 38,
     "metadata": {},
     "output_type": "execute_result"
    }
   ],
   "source": [
    "'''Writing programs (or programming) is a very creative and rewarding activity. You can write\n",
    "programs for many reasons ranging from making your living to solving a dificult data analysis\n",
    "problem to having fun to helping someone else solve a problem- T his book assumes that\n",
    "everyone needs to know how to program and that once you know how to program, you Will figure\n",
    "out what you want to do with your newfound skills.\n",
    "We are surrounded in our daily lives with computers ranging from laptops to cell phones. We\n",
    "can think Of these computers as Our -personal assistants• who can take care Of many things on\n",
    "our behalf. The hardware in our current-day computers is essentially built to continuously ask us\n",
    "the question, \"What would you like me to do next?\"\n",
    "Our computers are fast and have vast amounts of memory and could be very helpful to us if we\n",
    "only knew the language to speak to explain to the computer what we would like it to do next. If\n",
    "we knew this language we could tell the cornputer to do tasks on our behalf that were repetitive.\n",
    "Interestingly, the kinds of things computers can do best are often the kinds of things that we\n",
    "humans find bori and mind-numbi'''"
   ]
  },
  {
   "cell_type": "code",
   "execution_count": 39,
   "metadata": {},
   "outputs": [
    {
     "name": "stdout",
     "output_type": "stream",
     "text": [
      "Hola 1\n"
     ]
    }
   ],
   "source": [
    "text = input('Enter a line of text: ')\n",
    "words = text.split()\n",
    "counts = dict()\n",
    "for word in words:\n",
    "    counts[word] = counts.get(word, 0) + 1\n",
    "\n",
    "biggcount = None\n",
    "bigword = None\n",
    "for word, count in counts.items():\n",
    "    if biggcount is None or count > biggcount:\n",
    "        bigword = word\n",
    "        biggcount = count\n",
    "print(bigword, biggcount)"
   ]
  },
  {
   "cell_type": "code",
   "execution_count": 40,
   "metadata": {},
   "outputs": [
    {
     "name": "stdout",
     "output_type": "stream",
     "text": [
      "{'chuck': 1, 'fred': 42, 'jan': 100}\n",
      "['chuck', 'fred', 'jan']\n",
      "dict_keys(['chuck', 'fred', 'jan'])\n",
      "dict_values([1, 42, 100])\n",
      "dict_items([('chuck', 1), ('fred', 42), ('jan', 100)])\n"
     ]
    }
   ],
   "source": [
    "# Retrieving lists of keys and values\n",
    "ejemplo = {'chuck': 1, 'fred': 42, 'jan': 100}\n",
    "print(ejemplo)\n",
    "print(list(ejemplo))\n",
    "print(ejemplo.keys())\n",
    "print(ejemplo.values())\n",
    "print(ejemplo.items()) # returns a list of *tuples*"
   ]
  },
  {
   "cell_type": "code",
   "execution_count": 41,
   "metadata": {},
   "outputs": [
    {
     "name": "stdout",
     "output_type": "stream",
     "text": [
      "chuck 1\n",
      "fred 42\n",
      "jan 100\n"
     ]
    }
   ],
   "source": [
    "ejemplo = {'chuck': 1, 'fred': 42, 'jan': 100}\n",
    "for key, value in ejemplo.items():\n",
    "    print(key, value)\n",
    "\n",
    "\n"
   ]
  },
  {
   "cell_type": "markdown",
   "metadata": {},
   "source": [
    "### Assesment"
   ]
  },
  {
   "cell_type": "code",
   "execution_count": 43,
   "metadata": {},
   "outputs": [
    {
     "name": "stdout",
     "output_type": "stream",
     "text": [
      "cwen@iupui.edu 5\n"
     ]
    }
   ],
   "source": [
    "file = open('data/mbox-short.txt')\n",
    "senders = {}\n",
    "for line in file:\n",
    "    if line.startswith('From: '):\n",
    "        line.split()\n",
    "        new_key = line.split()[1]\n",
    "        senders[new_key] = senders.get(new_key, 0) +1\n",
    "\n",
    "\n",
    "big_sender = None\n",
    "big_count = None\n",
    "for key, value in senders.items():\n",
    "    if big_count is None or value > big_count:\n",
    "        big_sender = key\n",
    "        big_count = value\n",
    "print(big_sender, big_count)\n"
   ]
  },
  {
   "cell_type": "markdown",
   "metadata": {},
   "source": [
    "## Tuples"
   ]
  },
  {
   "cell_type": "code",
   "execution_count": 44,
   "metadata": {},
   "outputs": [
    {
     "name": "stdout",
     "output_type": "stream",
     "text": [
      "Joseph\n",
      "(1, 9, 2)\n"
     ]
    }
   ],
   "source": [
    "# Tuples are a \"limited\" versio of lists, they are immutable\n",
    "x = ('Glenn', 'Sally', 'Joseph')\n",
    "print(x[2])\n",
    "y = (1, 9, 2)\n",
    "print(y)\n",
    "# You can't sort, append, reverse, etc., mutate a tuple\n",
    "# You can only count and index a tuple\n",
    "\n",
    "# They are more efficient than lists\n",
    "# They are used to return multiple values from functions\n",
    "# They are used as keys in dictionaries\n",
    "# They are used in comparisons\n"
   ]
  },
  {
   "cell_type": "code",
   "execution_count": 45,
   "metadata": {},
   "outputs": [
    {
     "name": "stdout",
     "output_type": "stream",
     "text": [
      "fred\n"
     ]
    }
   ],
   "source": [
    "# you can put tuples on the left-hand side of an assignment statement\n",
    "(x, y) = (4, 'fred')\n",
    "print(y)"
   ]
  },
  {
   "cell_type": "code",
   "execution_count": 46,
   "metadata": {},
   "outputs": [
    {
     "name": "stdout",
     "output_type": "stream",
     "text": [
      "True\n",
      "True\n",
      "True\n",
      "True \n",
      "\n",
      "True\n",
      "True\n",
      "True\n"
     ]
    }
   ],
   "source": [
    "\n",
    "# Tuples are comparable\n",
    "print((0, 1, 2) < (5, 1, 2))\n",
    "print((0, 1, 200000) < (0, 3, 4))\n",
    "print(('Jones', 'Sally') < ('Jones', 'Sam'))\n",
    "print(('Jones', 'Sally') > ('Adams', 'Sam'), '\\n')\n",
    "# They compare the first element of each tuple, if they are equal, they compare the second element, and so on\n",
    "\n",
    "print((1, 2, 3) < (1, 2, 3, 4))\n",
    "print((1, 2, 3) < (1, 2, 3, 0))\n",
    "print((1, 2, 3) < (1, 2, 3, None))\n"
   ]
  },
  {
   "cell_type": "code",
   "execution_count": 47,
   "metadata": {},
   "outputs": [
    {
     "name": "stdout",
     "output_type": "stream",
     "text": [
      "[('a', 10), ('b', 1), ('c', 22)]\n",
      "a 10\n",
      "b 1\n",
      "c 22\n",
      "[(10, 'a'), (1, 'b'), (22, 'c')]\n",
      "[(22, 'c'), (10, 'a'), (1, 'b')]\n"
     ]
    }
   ],
   "source": [
    "# Sorting a dictionarie using tuples\n",
    "d = {'c': 22, 'a': 10, 'b': 1}\n",
    "t = sorted(d.items())\n",
    "print(t)\n",
    "\n",
    "for k, v in sorted(d.items()):\n",
    "    print(k, v)\n",
    "\n",
    "# sorting it by values\n",
    "c = {'a': 10, 'b': 1, 'c': 22}\n",
    "tmp = list()\n",
    "for k, v in c.items():\n",
    "    tmp.append((v, k))\n",
    "print(tmp) # it creates a list of tuples with values, keys\n",
    "tmp = sorted(tmp, reverse=True)\n",
    "print(tmp)"
   ]
  },
  {
   "cell_type": "code",
   "execution_count": 50,
   "metadata": {},
   "outputs": [
    {
     "name": "stdout",
     "output_type": "stream",
     "text": [
      "the 3\n",
      "is 3\n",
      "and 3\n",
      "sun 2\n",
      "yonder 1\n",
      "with 1\n",
      "window 1\n",
      "what 1\n",
      "through 1\n",
      "soft 1\n",
      "[(3, 'the'), (3, 'is'), (3, 'and'), (2, 'sun'), (1, 'yonder'), (1, 'with'), (1, 'window'), (1, 'what'), (1, 'through'), (1, 'soft'), (1, 'sick'), (1, 'pale'), (1, 'moon'), (1, 'light'), (1, 'kill'), (1, 'grief'), (1, 'fair'), (1, 'envious'), (1, 'east'), (1, 'breaks'), (1, 'already'), (1, 'Who'), (1, 'Juliet'), (1, 'It'), (1, 'But'), (1, 'Arise')]\n"
     ]
    }
   ],
   "source": [
    "# Sorting the most common words in a text\n",
    "fhand = open('data/romeo.txt')\n",
    "counts = {}\n",
    "for line in fhand:\n",
    "    words = line.split()\n",
    "    for word in words:\n",
    "        counts[word] = counts.get(word, 0) + 1\n",
    "\n",
    "lst = []\n",
    "for key, value in counts.items():\n",
    "    newtup = (value, key)\n",
    "    lst.append(newtup)\n",
    "\n",
    "lst = sorted(lst, reverse=True)\n",
    "for value, key in lst[:10]:\n",
    "    print(key, value)\n",
    "\n",
    "# We can do the same with list comprehension\n",
    "print(sorted([(value, key) for key, value in counts.items()], reverse=True))"
   ]
  },
  {
   "cell_type": "code",
   "execution_count": 51,
   "metadata": {},
   "outputs": [
    {
     "name": "stdout",
     "output_type": "stream",
     "text": [
      "[(22, 'c'), (10, 'a'), (1, 'b')]\n"
     ]
    }
   ],
   "source": [
    "# List comprehension\n",
    "c = {'a': 10, 'b': 1, 'c': 22}\n",
    "print(sorted([(v, k) for k, v in c.items()], reverse=True))"
   ]
  },
  {
   "cell_type": "code",
   "execution_count": 53,
   "metadata": {},
   "outputs": [
    {
     "name": "stdout",
     "output_type": "stream",
     "text": [
      "04 3\n",
      "06 1\n",
      "07 1\n",
      "09 2\n",
      "10 3\n",
      "11 6\n",
      "14 1\n",
      "15 2\n",
      "16 4\n",
      "17 2\n",
      "18 1\n",
      "19 1\n",
      "[('04', 3), ('06', 1), ('07', 1), ('09', 2), ('10', 3), ('11', 6), ('14', 1), ('15', 2), ('16', 4), ('17', 2), ('18', 1), ('19', 1)]\n"
     ]
    }
   ],
   "source": [
    "# Assignment 10.2\n",
    "file = open('data/mbox-short.txt')\n",
    "hours = {}\n",
    "for line in file:\n",
    "    if line.startswith('From '):\n",
    "        line.split()\n",
    "        hour = line.split()[5].split(':')[0]\n",
    "        hours[hour] = hours.get(hour, 0) + 1\n",
    "\n",
    "# list = sorted([(key, value) for key, value in hours.items()])\n",
    "\n",
    "# for value, key in list:\n",
    "#     print(key, value)\n",
    "\n",
    "lst = []\n",
    "for key, value in hours.items():\n",
    "    newtup = (key, value)\n",
    "    lst.append(newtup)\n",
    "\n",
    "for key, value in sorted(lst):\n",
    "    print(key, value)\n",
    "\n",
    "# Is the same as\n",
    "print(sorted([(key, value) for key, value in hours.items()]))\n"
   ]
  }
 ],
 "metadata": {
  "kernelspec": {
   "display_name": ".venv",
   "language": "python",
   "name": "python3"
  },
  "language_info": {
   "codemirror_mode": {
    "name": "ipython",
    "version": 3
   },
   "file_extension": ".py",
   "mimetype": "text/x-python",
   "name": "python",
   "nbconvert_exporter": "python",
   "pygments_lexer": "ipython3",
   "version": "3.13.1"
  }
 },
 "nbformat": 4,
 "nbformat_minor": 2
}
