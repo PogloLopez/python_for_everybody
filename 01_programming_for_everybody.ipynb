{
 "cells": [
  {
   "cell_type": "code",
   "execution_count": 1,
   "metadata": {},
   "outputs": [
    {
     "name": "stdout",
     "output_type": "stream",
     "text": [
      "3\n"
     ]
    },
    {
     "data": {
      "text/plain": [
       "5"
      ]
     },
     "execution_count": 1,
     "metadata": {},
     "output_type": "execute_result"
    }
   ],
   "source": [
    "x = 3\n",
    "\n",
    "def ejemplo():\n",
    "    global x\n",
    "    x = 5\n",
    "    return x\n",
    "\n",
    "print(x)\n",
    "ejemplo()"
   ]
  },
  {
   "cell_type": "code",
   "execution_count": 2,
   "metadata": {},
   "outputs": [
    {
     "name": "stdout",
     "output_type": "stream",
     "text": [
      "[27, 64, 125, 216, 343]\n"
     ]
    }
   ],
   "source": [
    "def my_map(my_func, my_iter):\n",
    "    result = []\n",
    "    for item in my_iter:\n",
    "            new_item = my_func(item)\n",
    "            result.append(new_item)\n",
    "    return (result)\n",
    "\n",
    "\n",
    "nums = [3, 4, 5, 6, 7]\n",
    "\n",
    "cubed = my_map(lambda x: x **3, nums)\n",
    "\n",
    "print(cubed)"
   ]
  },
  {
   "cell_type": "code",
   "execution_count": 3,
   "metadata": {},
   "outputs": [
    {
     "data": {
      "text/html": [
       "<div>\n",
       "<style scoped>\n",
       "    .dataframe tbody tr th:only-of-type {\n",
       "        vertical-align: middle;\n",
       "    }\n",
       "\n",
       "    .dataframe tbody tr th {\n",
       "        vertical-align: top;\n",
       "    }\n",
       "\n",
       "    .dataframe thead th {\n",
       "        text-align: right;\n",
       "    }\n",
       "</style>\n",
       "<table border=\"1\" class=\"dataframe\">\n",
       "  <thead>\n",
       "    <tr style=\"text-align: right;\">\n",
       "      <th></th>\n",
       "      <th>New DataFrame name</th>\n",
       "    </tr>\n",
       "  </thead>\n",
       "  <tbody>\n",
       "    <tr>\n",
       "      <th>0</th>\n",
       "      <td>150</td>\n",
       "    </tr>\n",
       "    <tr>\n",
       "      <th>1</th>\n",
       "      <td>30</td>\n",
       "    </tr>\n",
       "    <tr>\n",
       "      <th>2</th>\n",
       "      <td>20</td>\n",
       "    </tr>\n",
       "  </tbody>\n",
       "</table>\n",
       "</div>"
      ],
      "text/plain": [
       "   New DataFrame name\n",
       "0                 150\n",
       "1                  30\n",
       "2                  20"
      ]
     },
     "execution_count": 3,
     "metadata": {},
     "output_type": "execute_result"
    }
   ],
   "source": [
    "import pandas as pd\n",
    "\n",
    "#Transform a Series into DataFrames\n",
    "series = pd.Series([150, 30, 20], index=[0, 1, 2])\n",
    "transformation = series.to_frame(name='New DataFrame name')\n",
    "transformation"
   ]
  },
  {
   "cell_type": "code",
   "execution_count": 4,
   "metadata": {},
   "outputs": [
    {
     "name": "stdout",
     "output_type": "stream",
     "text": [
      "practicing Python\n"
     ]
    }
   ],
   "source": [
    "print('practicing Python')"
   ]
  },
  {
   "cell_type": "code",
   "execution_count": 5,
   "metadata": {},
   "outputs": [
    {
     "name": "stdout",
     "output_type": "stream",
     "text": [
      "Welcome, Pablo\n"
     ]
    }
   ],
   "source": [
    "nam = input ('who are you?')\n",
    "print ('Welcome,', nam)"
   ]
  },
  {
   "cell_type": "code",
   "execution_count": 6,
   "metadata": {},
   "outputs": [
    {
     "name": "stdout",
     "output_type": "stream",
     "text": [
      "US floor 6\n"
     ]
    }
   ],
   "source": [
    "inp = input('Europe floor?')\n",
    "usf = int(inp) + 1\n",
    "print ('US floor', usf)"
   ]
  },
  {
   "cell_type": "code",
   "execution_count": null,
   "metadata": {},
   "outputs": [],
   "source": []
  },
  {
   "cell_type": "code",
   "execution_count": 7,
   "metadata": {},
   "outputs": [
    {
     "name": "stdout",
     "output_type": "stream",
     "text": [
      "Welcome\n"
     ]
    }
   ],
   "source": [
    "try:\n",
    "    age = input('How old are you?')\n",
    "    age = float(age)\n",
    "\n",
    "    if age < 18: \n",
    "        print ('You are not allowed')\n",
    "    if age >= 18 and age != 69:\n",
    "        print ('Welcome')\n",
    "    if age == 69:\n",
    "        print('Secret page unlocked')\n",
    "except ValueError:\n",
    "    print ('Enter a valid age')\n"
   ]
  },
  {
   "cell_type": "code",
   "execution_count": 8,
   "metadata": {},
   "outputs": [
    {
     "name": "stdout",
     "output_type": "stream",
     "text": [
      "0\n",
      "Done with 0\n",
      "1\n",
      "Done with 1\n",
      "2\n",
      "Done with 2\n",
      "3\n",
      "Done with 3\n",
      "4\n",
      "Bigger than 3\n",
      "Done with 4\n",
      "All done\n"
     ]
    }
   ],
   "source": [
    "for i in range(5):\n",
    "    print(i)\n",
    "    if i > 3:\n",
    "        print('Bigger than 3')\n",
    "    print('Done with', i)\n",
    "print ('All done')"
   ]
  },
  {
   "cell_type": "code",
   "execution_count": 9,
   "metadata": {},
   "outputs": [
    {
     "name": "stdout",
     "output_type": "stream",
     "text": [
      "large\n",
      "done\n"
     ]
    }
   ],
   "source": [
    "x = input()\n",
    "x = float (x)\n",
    "if x < 2:\n",
    "    print ('small')\n",
    "elif x < 10:\n",
    "    print ('medium')\n",
    "else:\n",
    "    print ('large')\n",
    "print ('done')"
   ]
  },
  {
   "cell_type": "code",
   "execution_count": 10,
   "metadata": {},
   "outputs": [
    {
     "name": "stdout",
     "output_type": "stream",
     "text": [
      "gei\n"
     ]
    }
   ],
   "source": [
    "x = 5\n",
    "if x < 10:\n",
    "    x = 15\n",
    "if x > 14:\n",
    "    print('gei')\n",
    "else: print ('ola')"
   ]
  },
  {
   "cell_type": "code",
   "execution_count": 11,
   "metadata": {},
   "outputs": [
    {
     "name": "stdout",
     "output_type": "stream",
     "text": [
      "Nice work\n"
     ]
    }
   ],
   "source": [
    "rawstr = input('Enter a number:')\n",
    "try:\n",
    "    ival = int(rawstr)\n",
    "except:\n",
    "    ival = -1\n",
    "if ival > 0:\n",
    "    print ('Nice work')\n",
    "else: \n",
    "    print ('Not a number')"
   ]
  },
  {
   "cell_type": "code",
   "execution_count": 12,
   "metadata": {},
   "outputs": [
    {
     "name": "stdout",
     "output_type": "stream",
     "text": [
      "Is 6\n",
      "Is Still 6\n",
      "Third 6\n"
     ]
    }
   ],
   "source": [
    "x = 6\n",
    "if x == 6 :\n",
    "    print('Is 6')\n",
    "    print('Is Still 6')\n",
    "    print('Third 6')"
   ]
  },
  {
   "cell_type": "code",
   "execution_count": 13,
   "metadata": {},
   "outputs": [
    {
     "name": "stdout",
     "output_type": "stream",
     "text": [
      "75.0\n"
     ]
    }
   ],
   "source": [
    "try:\n",
    "    hrs = input(\"Enter Hours:\")\n",
    "    hrs = float(hrs)\n",
    "    rate = input(\"Enter rate:\")\n",
    "    rate = float(rate)\n",
    "    if hrs <= 40:\n",
    "        print(hrs*rate)\n",
    "    elif hrs > 40:\n",
    "        overtime_pay = (rate*1.5) * (hrs-40)\n",
    "        normal_pay = 40 * rate\n",
    "        total_pay = overtime_pay + normal_pay\n",
    "        print (total_pay)\n",
    "except:\n",
    "    print('Write a valid number')"
   ]
  },
  {
   "cell_type": "code",
   "execution_count": 14,
   "metadata": {},
   "outputs": [
    {
     "name": "stdout",
     "output_type": "stream",
     "text": [
      "Number out of range. Select a number between 0 and 1\n"
     ]
    }
   ],
   "source": [
    "try:    \n",
    "    score = input(\"Enter Score: \")\n",
    "    score = float(score)\n",
    "\n",
    "    if 0.9 <= score <=1:\n",
    "        print ('A')\n",
    "    elif 0.8 <= score < 0.9:\n",
    "        print ('B')\n",
    "    elif 0.7 <= score < 0.8:\n",
    "        print ('C')\n",
    "    elif 0.6 <= score < 0.7:\n",
    "        print('D')\n",
    "    elif 0 <= 0.6 < 0.6:\n",
    "        print ('F')\n",
    "    else:\n",
    "        print ('Number out of range. Select a number between 0 and 1')\n",
    "except:\n",
    "    print('Invalid character. Please enter a number')"
   ]
  },
  {
   "cell_type": "code",
   "execution_count": 15,
   "metadata": {},
   "outputs": [
    {
     "name": "stdout",
     "output_type": "stream",
     "text": [
      "Hello\n",
      "fun\n",
      "zip\n",
      "Hello\n",
      "fun\n"
     ]
    }
   ],
   "source": [
    "def thing():\n",
    "    print ('Hello')\n",
    "    print ('fun')\n",
    "thing()\n",
    "print('zip')\n",
    "thing()"
   ]
  },
  {
   "cell_type": "code",
   "execution_count": 16,
   "metadata": {},
   "outputs": [
    {
     "data": {
      "text/plain": [
       "'hola'"
      ]
     },
     "execution_count": 16,
     "metadata": {},
     "output_type": "execute_result"
    }
   ],
   "source": [
    "def greet (lang): # lang is the parameter, like an alias to the upcoming use of the funciton\n",
    "    if lang == 'es':\n",
    "        return 'hola'\n",
    "    elif lang == 'fr':\n",
    "        return 'bonjour'\n",
    "    elif lang == 'en':\n",
    "        return 'hello'\n",
    "    else: \n",
    "        print('Lang not supported')\n",
    "greet(input())"
   ]
  },
  {
   "cell_type": "code",
   "execution_count": 17,
   "metadata": {},
   "outputs": [
    {
     "name": "stdout",
     "output_type": "stream",
     "text": [
      "57\n"
     ]
    }
   ],
   "source": [
    "def add2 (a,b):\n",
    "    added = a+b\n",
    "    return added\n",
    "print(add2(input(), input()))"
   ]
  },
  {
   "cell_type": "code",
   "execution_count": 18,
   "metadata": {},
   "outputs": [
    {
     "name": "stdout",
     "output_type": "stream",
     "text": [
      "9\n"
     ]
    }
   ],
   "source": [
    "def addtwo(a, b):\n",
    "    added = a + b\n",
    "    return added\n",
    "\n",
    "x = addtwo(2, 7)\n",
    "print(x)"
   ]
  },
  {
   "cell_type": "code",
   "execution_count": 19,
   "metadata": {},
   "outputs": [
    {
     "name": "stdout",
     "output_type": "stream",
     "text": [
      "Pay 120.0\n"
     ]
    }
   ],
   "source": [
    "def computepay(h, r):\n",
    "        if h > 40:\n",
    "            overtime_pay = (r*1.5) * (h-40)\n",
    "            normal_pay = 40 * r\n",
    "            return  overtime_pay + normal_pay\n",
    "        else:\n",
    "            return h*r\n",
    "try:\n",
    "    hours = float(input('Enter hours:'))\n",
    "    rate = float(input('Enter rate'))\n",
    "\n",
    "    pay = computepay(hours, rate)\n",
    "    print('Pay', pay)\n",
    "except:\n",
    "    print('Enter a valid number')\n"
   ]
  },
  {
   "cell_type": "code",
   "execution_count": 20,
   "metadata": {},
   "outputs": [
    {
     "name": "stdout",
     "output_type": "stream",
     "text": [
      "Done: 9999999\n"
     ]
    }
   ],
   "source": [
    "n = 0\n",
    "while n < 9999999:\n",
    "    n = n+1\n",
    "print (f'Done: {n}')\n"
   ]
  },
  {
   "cell_type": "code",
   "execution_count": 21,
   "metadata": {},
   "outputs": [
    {
     "name": "stdout",
     "output_type": "stream",
     "text": [
      "Infininte?\n",
      "Done\n"
     ]
    }
   ],
   "source": [
    "n = 5\n",
    "while n > 0:\n",
    "    print ('Infininte?')\n",
    "    break\n",
    "print('Done')"
   ]
  },
  {
   "cell_type": "code",
   "execution_count": 22,
   "metadata": {},
   "outputs": [
    {
     "name": "stdout",
     "output_type": "stream",
     "text": [
      "hola\n",
      "como\n",
      "estás\n",
      "estás\n",
      "Done!\n"
     ]
    }
   ],
   "source": [
    "while True:\n",
    "    line = input ('>')\n",
    "    if line [0] == '#':\n",
    "        continue\n",
    "    if line == 'done':\n",
    "        break\n",
    "    print(line)\n",
    "print('Done!')"
   ]
  },
  {
   "cell_type": "code",
   "execution_count": 23,
   "metadata": {},
   "outputs": [
    {
     "name": "stdout",
     "output_type": "stream",
     "text": [
      "5\n",
      "4\n",
      "3\n",
      "2\n",
      "1\n",
      "Blastoff!\n"
     ]
    }
   ],
   "source": [
    "for i in [5, 4, 3, 2, 1]:\n",
    "    print (i)\n",
    "print('Blastoff!')\n"
   ]
  },
  {
   "cell_type": "code",
   "execution_count": 24,
   "metadata": {},
   "outputs": [
    {
     "name": "stdout",
     "output_type": "stream",
     "text": [
      "Happy New Year, Kr baby\n",
      "Happy New Year, Lago\n",
      "Happy New Year, Gugol\n",
      "Happy New Year, Sancho\n",
      "Happy New Year, Guillermo\n",
      "Done\n"
     ]
    }
   ],
   "source": [
    "friends = ['Kr baby', 'Lago', 'Gugol', 'Sancho', 'Guillermo']\n",
    "for friend in friends:\n",
    "    print ('Happy New Year,', friend)\n",
    "print('Done')"
   ]
  },
  {
   "cell_type": "code",
   "execution_count": 25,
   "metadata": {},
   "outputs": [
    {
     "name": "stdout",
     "output_type": "stream",
     "text": [
      "Sum result: 102. End set: [33, 34, 35]\n"
     ]
    }
   ],
   "source": [
    "a = 2\n",
    "b = 3\n",
    "c = 4\n",
    "abc = [a, b, c]  # List of numbers\n",
    "summing = sum(abc)  # Initial sum of the list\n",
    "\n",
    "while summing < 100:\n",
    "    abc = [x + 1 for x in abc]  \n",
    "    summing = sum(abc)\n",
    "\n",
    "print(f'Sum result: {summing}. End set: {abc}')"
   ]
  },
  {
   "cell_type": "code",
   "execution_count": 26,
   "metadata": {},
   "outputs": [
    {
     "name": "stdout",
     "output_type": "stream",
     "text": [
      "Before 0\n",
      "1 9\n",
      "2 41\n",
      "3 12\n",
      "4 3\n",
      "5 74\n",
      "6 15\n",
      "After 6\n"
     ]
    }
   ],
   "source": [
    "# Counting in a loop\n",
    "count = 0 \n",
    "print ('Before', count)\n",
    "for thing in [9, 41, 12, 3, 74, 15]:\n",
    "    count = count + 1\n",
    "    print (count, thing)\n",
    "print('After', count)"
   ]
  },
  {
   "cell_type": "code",
   "execution_count": 27,
   "metadata": {},
   "outputs": [
    {
     "name": "stdout",
     "output_type": "stream",
     "text": [
      "Before 0\n",
      "9 9\n",
      "50 41\n",
      "62 12\n",
      "65 3\n",
      "139 74\n",
      "154 15\n",
      "After 154\n"
     ]
    }
   ],
   "source": [
    "# Summing in a loop\n",
    "the_sum = 0\n",
    "print ('Before', the_sum)\n",
    "for thing in [9, 41, 12, 3, 74, 15]:\n",
    "    the_sum = the_sum + thing\n",
    "    print (the_sum, thing)\n",
    "print ('After', the_sum)"
   ]
  },
  {
   "cell_type": "code",
   "execution_count": 28,
   "metadata": {},
   "outputs": [
    {
     "name": "stdout",
     "output_type": "stream",
     "text": [
      "Before 0 0\n",
      "1 9 9\n",
      "2 50 41\n",
      "3 62 12\n",
      "4 65 3\n",
      "5 139 74\n",
      "6 154 15\n",
      "After 6 154 25.666666666666668\n"
     ]
    }
   ],
   "source": [
    "# Find the average in a loop\n",
    "the_count = 0\n",
    "the_sum = 0\n",
    "print ('Before', the_count, the_sum)\n",
    "for value in [9, 41, 12, 3, 74, 15]:\n",
    "    the_count = the_count + 1\n",
    "    the_sum = the_sum + value\n",
    "    print (the_count, the_sum, value)\n",
    "print ('After', the_count, the_sum, the_sum/the_count)"
   ]
  },
  {
   "cell_type": "code",
   "execution_count": 29,
   "metadata": {},
   "outputs": [
    {
     "name": "stdout",
     "output_type": "stream",
     "text": [
      "9 out\n",
      "41 remain\n",
      "12 out\n",
      "3 out\n",
      "74 remain\n",
      "15 out\n"
     ]
    }
   ],
   "source": [
    "# Filtering in a loop\n",
    "for value in [9, 41, 12, 3, 74, 15]:\n",
    "    if value > 20:\n",
    "        print(value, 'remain')\n",
    "    else: # If no else, then output will just stay with the values that fulfil the condition\n",
    "        print (value, 'out') "
   ]
  },
  {
   "cell_type": "code",
   "execution_count": 30,
   "metadata": {},
   "outputs": [
    {
     "name": "stdout",
     "output_type": "stream",
     "text": [
      "Before False\n",
      "False 9\n",
      "False 41\n",
      "False 12\n",
      "After True\n"
     ]
    }
   ],
   "source": [
    "# Search using a boolean variable\n",
    "found = False\n",
    "print('Before', found)\n",
    "for value in [9, 41, 12, 3, 74, 15]:\n",
    "    if value == 3:\n",
    "        found = True\n",
    "        break\n",
    "    print (found, value)\n",
    "print('After', found)"
   ]
  },
  {
   "cell_type": "code",
   "execution_count": 31,
   "metadata": {},
   "outputs": [
    {
     "name": "stdout",
     "output_type": "stream",
     "text": [
      "Before None\n",
      "9 9\n",
      "9 41\n",
      "9 12\n",
      "3 3\n",
      "3 74\n",
      "3 15\n",
      "After 3\n"
     ]
    }
   ],
   "source": [
    "# Finding the smallest value\n",
    "smallest = None # Flag value\n",
    "print('Before', smallest)\n",
    "for value in [9, 41, 12, 3, 74, 15]:\n",
    "    if smallest is None: # 'is' is the same as == but more precise\n",
    "        smallest = value\n",
    "    elif value < smallest:\n",
    "        smallest = value\n",
    "    print (smallest, value)\n",
    "print ('After', smallest)\n"
   ]
  },
  {
   "cell_type": "code",
   "execution_count": 32,
   "metadata": {},
   "outputs": [
    {
     "name": "stdout",
     "output_type": "stream",
     "text": [
      "5.0\n",
      "7.0\n",
      "5.0\n",
      "1.0\n",
      "8.0\n",
      "Done. \n",
      "sum: 26.0, count: 5, average: 5.2\n"
     ]
    }
   ],
   "source": [
    "num = 0\n",
    "tot = 0\n",
    "while True:\n",
    "    sval = input('Enter a number: ')\n",
    "    if sval == 'done':\n",
    "        break\n",
    "    try:\n",
    "        fval = float(sval)\n",
    "    except:\n",
    "        print('Invalid input')\n",
    "        continue\n",
    "    print(fval)\n",
    "    num = num + 1\n",
    "    tot = tot + fval\n",
    "print(f'Done. \\nsum: {tot}, count: {num}, average: {tot/num}')\n",
    "\n"
   ]
  },
  {
   "cell_type": "code",
   "execution_count": 33,
   "metadata": {},
   "outputs": [
    {
     "name": "stdout",
     "output_type": "stream",
     "text": [
      "Maximum is 56\n",
      "Minimum is 13\n"
     ]
    }
   ],
   "source": [
    "values = []\n",
    "smallest = None\n",
    "largest = None\n",
    "while True:\n",
    "    num = input('Enter a number:')\n",
    "    if num == 'done':\n",
    "        break\n",
    "    try:\n",
    "        num = int(num)\n",
    "        values.append(num)\n",
    "    except:\n",
    "        print('Invalid input')\n",
    "print('Maximum is', max(values))\n",
    "print('Minimum is', min(values))"
   ]
  }
 ],
 "metadata": {
  "kernelspec": {
   "display_name": ".venv",
   "language": "python",
   "name": "python3"
  },
  "language_info": {
   "codemirror_mode": {
    "name": "ipython",
    "version": 3
   },
   "file_extension": ".py",
   "mimetype": "text/x-python",
   "name": "python",
   "nbconvert_exporter": "python",
   "pygments_lexer": "ipython3",
   "version": "3.13.1"
  }
 },
 "nbformat": 4,
 "nbformat_minor": 2
}
